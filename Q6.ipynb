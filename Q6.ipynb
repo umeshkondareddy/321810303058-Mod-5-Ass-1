{
 "cells": [
  {
   "cell_type": "code",
   "execution_count": 4,
   "metadata": {},
   "outputs": [
    {
     "name": "stdout",
     "output_type": "stream",
     "text": [
      "List Of given dictionaries:\n",
      "all\n",
      "food\n",
      "good\n",
      "have\n"
     ]
    }
   ],
   "source": [
    "t = {'all' : 1, 'food' : 2, 'good' : 3, 'have' : 4}\n",
    "print('List Of given dictionaries:') \n",
    "for i in t: \n",
    "    print(i) "
   ]
  },
  {
   "cell_type": "code",
   "execution_count": 6,
   "metadata": {},
   "outputs": [
    {
     "name": "stdout",
     "output_type": "stream",
     "text": [
      "all -> 1\n",
      "food -> 2\n",
      "good -> 3\n",
      "have -> 4\n"
     ]
    }
   ],
   "source": [
    "t = {'all' : 1, 'food' : 2, 'good' : 3, 'have' : 4}\n",
    "for dict_key, dict_value in t.items():\n",
    "    print(dict_key,'->',dict_value)"
   ]
  }
 ],
 "metadata": {
  "kernelspec": {
   "display_name": "Python 3",
   "language": "python",
   "name": "python3"
  },
  "language_info": {
   "codemirror_mode": {
    "name": "ipython",
    "version": 3
   },
   "file_extension": ".py",
   "mimetype": "text/x-python",
   "name": "python",
   "nbconvert_exporter": "python",
   "pygments_lexer": "ipython3",
   "version": "3.7.6"
  }
 },
 "nbformat": 4,
 "nbformat_minor": 4
}
