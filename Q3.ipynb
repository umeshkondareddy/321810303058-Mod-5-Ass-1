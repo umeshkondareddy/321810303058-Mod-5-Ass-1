{
 "cells": [
  {
   "cell_type": "code",
   "execution_count": 1,
   "metadata": {},
   "outputs": [
    {
     "name": "stdout",
     "output_type": "stream",
     "text": [
      "enter the no of elements:6\n",
      "7\n",
      "6\n",
      "5\n",
      "4\n",
      "3\n",
      "2\n",
      "the sum of elements of list is: 27\n"
     ]
    }
   ],
   "source": [
    "n=int(input(\"enter the no of elements:\"))\n",
    "ls = []\n",
    "for i in range(n):\n",
    "    items=int(input())\n",
    "    ls.append(items)\n",
    "sum=0\n",
    "for j in ls:\n",
    "    sum+=j\n",
    "print(\"the sum of elements of list is:\",sum)"
   ]
  }
 ],
 "metadata": {
  "kernelspec": {
   "display_name": "Python 3",
   "language": "python",
   "name": "python3"
  },
  "language_info": {
   "codemirror_mode": {
    "name": "ipython",
    "version": 3
   },
   "file_extension": ".py",
   "mimetype": "text/x-python",
   "name": "python",
   "nbconvert_exporter": "python",
   "pygments_lexer": "ipython3",
   "version": "3.7.6"
  }
 },
 "nbformat": 4,
 "nbformat_minor": 4
}
