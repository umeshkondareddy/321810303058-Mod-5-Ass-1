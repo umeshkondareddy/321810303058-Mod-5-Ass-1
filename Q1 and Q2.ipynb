{
 "cells": [
  {
   "cell_type": "markdown",
   "metadata": {},
   "source": [
    "1)What is dictionary in Python? Explain with an example\n",
    "Ans. \n",
    "    Dictionaries are another example of a data structure. ... A\n",
    "dictionary in Python is just like a dictionary in the real\n",
    "world. Python Dictionary are defined into two elements Keys\n",
    "and Values. Keys will be a single element. Values can be a list or\n",
    "list within a list, numbers, etc\n",
    "Synatx: Dict = { &#39; Tim&#39;: 18, xyz,.. }"
   ]
  },
  {
   "cell_type": "code",
   "execution_count": 2,
   "metadata": {},
   "outputs": [
    {
     "name": "stdout",
     "output_type": "stream",
     "text": [
      "3\n"
     ]
    }
   ],
   "source": [
    "t = {'all' : 1, 'food' : 2, 'good' : 3, 'have' : 4}\n",
    "print(t['good'])"
   ]
  }
 ],
 "metadata": {
  "kernelspec": {
   "display_name": "Python 3",
   "language": "python",
   "name": "python3"
  },
  "language_info": {
   "codemirror_mode": {
    "name": "ipython",
    "version": 3
   },
   "file_extension": ".py",
   "mimetype": "text/x-python",
   "name": "python",
   "nbconvert_exporter": "python",
   "pygments_lexer": "ipython3",
   "version": "3.7.6"
  }
 },
 "nbformat": 4,
 "nbformat_minor": 4
}
